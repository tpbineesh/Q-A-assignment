{
  "nbformat": 4,
  "nbformat_minor": 0,
  "metadata": {
    "colab": {
      "name": "Untitled12.ipynb",
      "provenance": []
    },
    "kernelspec": {
      "name": "python3",
      "display_name": "Python 3"
    },
    "language_info": {
      "name": "python"
    }
  },
  "cells": [
    {
      "cell_type": "code",
      "execution_count": 1,
      "metadata": {
        "id": "q0BmBIC8mmoE"
      },
      "outputs": [],
      "source": [
        "import pandas as pd\n",
        "import numpy as np\n",
        "import matplotlib.pyplot as plt\n",
        "import seaborn as sns"
      ]
    },
    {
      "cell_type": "code",
      "source": [
        "data=pd.read_csv('/content/Add_sales_data_2018.csv')\n",
        "data"
      ],
      "metadata": {
        "colab": {
          "base_uri": "https://localhost:8080/",
          "height": 615
        },
        "id": "YzjsYei_monc",
        "outputId": "6ef92e4f-1318-466e-b7e0-8990697fde07"
      },
      "execution_count": 2,
      "outputs": [
        {
          "output_type": "execute_result",
          "data": {
            "text/html": [
              "<div>\n",
              "<style scoped>\n",
              "    .dataframe tbody tr th:only-of-type {\n",
              "        vertical-align: middle;\n",
              "    }\n",
              "\n",
              "    .dataframe tbody tr th {\n",
              "        vertical-align: top;\n",
              "    }\n",
              "\n",
              "    .dataframe thead th {\n",
              "        text-align: right;\n",
              "    }\n",
              "</style>\n",
              "<table border=\"1\" class=\"dataframe\">\n",
              "  <thead>\n",
              "    <tr style=\"text-align: right;\">\n",
              "      <th></th>\n",
              "      <th>Date</th>\n",
              "      <th>Add1(in Thousands)</th>\n",
              "      <th>Add2(in Thousands)</th>\n",
              "      <th>Add3(in Thousands)</th>\n",
              "      <th>Add4(in Thousands)</th>\n",
              "      <th>Add5(in Thousands)</th>\n",
              "      <th>Profit(in Thousands)</th>\n",
              "    </tr>\n",
              "  </thead>\n",
              "  <tbody>\n",
              "    <tr>\n",
              "      <th>0</th>\n",
              "      <td>2018-10-08</td>\n",
              "      <td>208.00</td>\n",
              "      <td>222.25</td>\n",
              "      <td>206.85</td>\n",
              "      <td>216.00</td>\n",
              "      <td>215.15</td>\n",
              "      <td>4093.065</td>\n",
              "    </tr>\n",
              "    <tr>\n",
              "      <th>1</th>\n",
              "      <td>2018-10-05</td>\n",
              "      <td>217.00</td>\n",
              "      <td>218.60</td>\n",
              "      <td>205.90</td>\n",
              "      <td>210.25</td>\n",
              "      <td>209.20</td>\n",
              "      <td>4042.448</td>\n",
              "    </tr>\n",
              "    <tr>\n",
              "      <th>2</th>\n",
              "      <td>2018-10-04</td>\n",
              "      <td>223.50</td>\n",
              "      <td>227.80</td>\n",
              "      <td>216.15</td>\n",
              "      <td>217.25</td>\n",
              "      <td>218.20</td>\n",
              "      <td>4213.819</td>\n",
              "    </tr>\n",
              "    <tr>\n",
              "      <th>3</th>\n",
              "      <td>2018-10-03</td>\n",
              "      <td>230.00</td>\n",
              "      <td>237.50</td>\n",
              "      <td>225.75</td>\n",
              "      <td>226.45</td>\n",
              "      <td>227.60</td>\n",
              "      <td>4391.665</td>\n",
              "    </tr>\n",
              "    <tr>\n",
              "      <th>4</th>\n",
              "      <td>2018-10-01</td>\n",
              "      <td>234.55</td>\n",
              "      <td>234.60</td>\n",
              "      <td>221.05</td>\n",
              "      <td>230.30</td>\n",
              "      <td>230.90</td>\n",
              "      <td>4350.683</td>\n",
              "    </tr>\n",
              "    <tr>\n",
              "      <th>...</th>\n",
              "      <td>...</td>\n",
              "      <td>...</td>\n",
              "      <td>...</td>\n",
              "      <td>...</td>\n",
              "      <td>...</td>\n",
              "      <td>...</td>\n",
              "      <td>...</td>\n",
              "    </tr>\n",
              "    <tr>\n",
              "      <th>200</th>\n",
              "      <td>2017-12-14</td>\n",
              "      <td>288.00</td>\n",
              "      <td>288.25</td>\n",
              "      <td>279.20</td>\n",
              "      <td>284.50</td>\n",
              "      <td>284.30</td>\n",
              "      <td>5374.105</td>\n",
              "    </tr>\n",
              "    <tr>\n",
              "      <th>201</th>\n",
              "      <td>2017-12-13</td>\n",
              "      <td>290.00</td>\n",
              "      <td>292.50</td>\n",
              "      <td>282.20</td>\n",
              "      <td>284.80</td>\n",
              "      <td>284.45</td>\n",
              "      <td>5439.655</td>\n",
              "    </tr>\n",
              "    <tr>\n",
              "      <th>202</th>\n",
              "      <td>2017-12-12</td>\n",
              "      <td>298.60</td>\n",
              "      <td>298.60</td>\n",
              "      <td>286.65</td>\n",
              "      <td>287.45</td>\n",
              "      <td>287.80</td>\n",
              "      <td>5545.013</td>\n",
              "    </tr>\n",
              "    <tr>\n",
              "      <th>203</th>\n",
              "      <td>2017-12-11</td>\n",
              "      <td>290.00</td>\n",
              "      <td>299.55</td>\n",
              "      <td>285.90</td>\n",
              "      <td>297.85</td>\n",
              "      <td>298.35</td>\n",
              "      <td>5565.444</td>\n",
              "    </tr>\n",
              "    <tr>\n",
              "      <th>204</th>\n",
              "      <td>2017-12-08</td>\n",
              "      <td>287.55</td>\n",
              "      <td>289.90</td>\n",
              "      <td>285.05</td>\n",
              "      <td>288.05</td>\n",
              "      <td>288.45</td>\n",
              "      <td>5421.842</td>\n",
              "    </tr>\n",
              "  </tbody>\n",
              "</table>\n",
              "<p>205 rows × 7 columns</p>\n",
              "</div>"
            ],
            "text/plain": [
              "           Date  Add1(in Thousands)  ...  Add5(in Thousands)  Profit(in Thousands)\n",
              "0    2018-10-08              208.00  ...              215.15              4093.065\n",
              "1    2018-10-05              217.00  ...              209.20              4042.448\n",
              "2    2018-10-04              223.50  ...              218.20              4213.819\n",
              "3    2018-10-03              230.00  ...              227.60              4391.665\n",
              "4    2018-10-01              234.55  ...              230.90              4350.683\n",
              "..          ...                 ...  ...                 ...                   ...\n",
              "200  2017-12-14              288.00  ...              284.30              5374.105\n",
              "201  2017-12-13              290.00  ...              284.45              5439.655\n",
              "202  2017-12-12              298.60  ...              287.80              5545.013\n",
              "203  2017-12-11              290.00  ...              298.35              5565.444\n",
              "204  2017-12-08              287.55  ...              288.45              5421.842\n",
              "\n",
              "[205 rows x 7 columns]"
            ]
          },
          "metadata": {},
          "execution_count": 2
        }
      ]
    },
    {
      "cell_type": "code",
      "source": [
        "#First of all, check whether there is any relationship between the amount\n",
        "spent for advertising through five different companies and profit\n",
        "generated."
      ],
      "metadata": {
        "id": "_jmyRWWOrRmI"
      },
      "execution_count": null,
      "outputs": []
    },
    {
      "cell_type": "code",
      "source": [
        "data.corr()"
      ],
      "metadata": {
        "colab": {
          "base_uri": "https://localhost:8080/",
          "height": 359
        },
        "id": "nZnMrxFNrTMz",
        "outputId": "83e9533d-e3f0-4e4e-c10a-d8034aa293e5"
      },
      "execution_count": 18,
      "outputs": [
        {
          "output_type": "execute_result",
          "data": {
            "text/html": [
              "<div>\n",
              "<style scoped>\n",
              "    .dataframe tbody tr th:only-of-type {\n",
              "        vertical-align: middle;\n",
              "    }\n",
              "\n",
              "    .dataframe tbody tr th {\n",
              "        vertical-align: top;\n",
              "    }\n",
              "\n",
              "    .dataframe thead th {\n",
              "        text-align: right;\n",
              "    }\n",
              "</style>\n",
              "<table border=\"1\" class=\"dataframe\">\n",
              "  <thead>\n",
              "    <tr style=\"text-align: right;\">\n",
              "      <th></th>\n",
              "      <th>Add1(in Thousands)</th>\n",
              "      <th>Add2(in Thousands)</th>\n",
              "      <th>Add3(in Thousands)</th>\n",
              "      <th>Add4(in Thousands)</th>\n",
              "      <th>Add5(in Thousands)</th>\n",
              "      <th>Profit(in Thousands)</th>\n",
              "    </tr>\n",
              "  </thead>\n",
              "  <tbody>\n",
              "    <tr>\n",
              "      <th>Add1(in Thousands)</th>\n",
              "      <td>1.000000</td>\n",
              "      <td>0.990976</td>\n",
              "      <td>0.986274</td>\n",
              "      <td>0.976365</td>\n",
              "      <td>0.976716</td>\n",
              "      <td>0.991975</td>\n",
              "    </tr>\n",
              "    <tr>\n",
              "      <th>Add2(in Thousands)</th>\n",
              "      <td>0.990976</td>\n",
              "      <td>1.000000</td>\n",
              "      <td>0.987990</td>\n",
              "      <td>0.989921</td>\n",
              "      <td>0.990285</td>\n",
              "      <td>0.999145</td>\n",
              "    </tr>\n",
              "    <tr>\n",
              "      <th>Add3(in Thousands)</th>\n",
              "      <td>0.986274</td>\n",
              "      <td>0.987990</td>\n",
              "      <td>1.000000</td>\n",
              "      <td>0.991343</td>\n",
              "      <td>0.991908</td>\n",
              "      <td>0.993389</td>\n",
              "    </tr>\n",
              "    <tr>\n",
              "      <th>Add4(in Thousands)</th>\n",
              "      <td>0.976365</td>\n",
              "      <td>0.989921</td>\n",
              "      <td>0.991343</td>\n",
              "      <td>1.000000</td>\n",
              "      <td>0.999699</td>\n",
              "      <td>0.993346</td>\n",
              "    </tr>\n",
              "    <tr>\n",
              "      <th>Add5(in Thousands)</th>\n",
              "      <td>0.976716</td>\n",
              "      <td>0.990285</td>\n",
              "      <td>0.991908</td>\n",
              "      <td>0.999699</td>\n",
              "      <td>1.000000</td>\n",
              "      <td>0.993710</td>\n",
              "    </tr>\n",
              "    <tr>\n",
              "      <th>Profit(in Thousands)</th>\n",
              "      <td>0.991975</td>\n",
              "      <td>0.999145</td>\n",
              "      <td>0.993389</td>\n",
              "      <td>0.993346</td>\n",
              "      <td>0.993710</td>\n",
              "      <td>1.000000</td>\n",
              "    </tr>\n",
              "  </tbody>\n",
              "</table>\n",
              "</div>"
            ],
            "text/plain": [
              "                      Add1(in Thousands)  ...  Profit(in Thousands)\n",
              "Add1(in Thousands)              1.000000  ...              0.991975\n",
              "Add2(in Thousands)              0.990976  ...              0.999145\n",
              "Add3(in Thousands)              0.986274  ...              0.993389\n",
              "Add4(in Thousands)              0.976365  ...              0.993346\n",
              "Add5(in Thousands)              0.976716  ...              0.993710\n",
              "Profit(in Thousands)            0.991975  ...              1.000000\n",
              "\n",
              "[6 rows x 6 columns]"
            ]
          },
          "metadata": {},
          "execution_count": 18
        }
      ]
    },
    {
      "cell_type": "markdown",
      "source": [
        "From the above table its clear that amount spend through each ad company has a high positive correlation with profit. Ad company 2 has the highest correlation when compared to other companies.So from this we can conclude that as the amount spend in ad through ad companies increases, the profit also increses."
      ],
      "metadata": {
        "id": "tQJZmyi2rWSh"
      }
    },
    {
      "cell_type": "code",
      "source": [
        "#Build a regression model to predict the profit from the given data and\n",
        "comment your findings on it."
      ],
      "metadata": {
        "id": "zLqI9eE0rZq-"
      },
      "execution_count": null,
      "outputs": []
    },
    {
      "cell_type": "code",
      "source": [
        "data1=data.drop(['Add2(in Thousands)','Date'],axis=1)\n",
        "data1"
      ],
      "metadata": {
        "colab": {
          "base_uri": "https://localhost:8080/",
          "height": 423
        },
        "id": "RHaTythkm22o",
        "outputId": "24ac59b3-af64-4daf-aed0-7934e71d76fb"
      },
      "execution_count": 3,
      "outputs": [
        {
          "output_type": "execute_result",
          "data": {
            "text/html": [
              "<div>\n",
              "<style scoped>\n",
              "    .dataframe tbody tr th:only-of-type {\n",
              "        vertical-align: middle;\n",
              "    }\n",
              "\n",
              "    .dataframe tbody tr th {\n",
              "        vertical-align: top;\n",
              "    }\n",
              "\n",
              "    .dataframe thead th {\n",
              "        text-align: right;\n",
              "    }\n",
              "</style>\n",
              "<table border=\"1\" class=\"dataframe\">\n",
              "  <thead>\n",
              "    <tr style=\"text-align: right;\">\n",
              "      <th></th>\n",
              "      <th>Add1(in Thousands)</th>\n",
              "      <th>Add3(in Thousands)</th>\n",
              "      <th>Add4(in Thousands)</th>\n",
              "      <th>Add5(in Thousands)</th>\n",
              "      <th>Profit(in Thousands)</th>\n",
              "    </tr>\n",
              "  </thead>\n",
              "  <tbody>\n",
              "    <tr>\n",
              "      <th>0</th>\n",
              "      <td>208.00</td>\n",
              "      <td>206.85</td>\n",
              "      <td>216.00</td>\n",
              "      <td>215.15</td>\n",
              "      <td>4093.065</td>\n",
              "    </tr>\n",
              "    <tr>\n",
              "      <th>1</th>\n",
              "      <td>217.00</td>\n",
              "      <td>205.90</td>\n",
              "      <td>210.25</td>\n",
              "      <td>209.20</td>\n",
              "      <td>4042.448</td>\n",
              "    </tr>\n",
              "    <tr>\n",
              "      <th>2</th>\n",
              "      <td>223.50</td>\n",
              "      <td>216.15</td>\n",
              "      <td>217.25</td>\n",
              "      <td>218.20</td>\n",
              "      <td>4213.819</td>\n",
              "    </tr>\n",
              "    <tr>\n",
              "      <th>3</th>\n",
              "      <td>230.00</td>\n",
              "      <td>225.75</td>\n",
              "      <td>226.45</td>\n",
              "      <td>227.60</td>\n",
              "      <td>4391.665</td>\n",
              "    </tr>\n",
              "    <tr>\n",
              "      <th>4</th>\n",
              "      <td>234.55</td>\n",
              "      <td>221.05</td>\n",
              "      <td>230.30</td>\n",
              "      <td>230.90</td>\n",
              "      <td>4350.683</td>\n",
              "    </tr>\n",
              "    <tr>\n",
              "      <th>...</th>\n",
              "      <td>...</td>\n",
              "      <td>...</td>\n",
              "      <td>...</td>\n",
              "      <td>...</td>\n",
              "      <td>...</td>\n",
              "    </tr>\n",
              "    <tr>\n",
              "      <th>200</th>\n",
              "      <td>288.00</td>\n",
              "      <td>279.20</td>\n",
              "      <td>284.50</td>\n",
              "      <td>284.30</td>\n",
              "      <td>5374.105</td>\n",
              "    </tr>\n",
              "    <tr>\n",
              "      <th>201</th>\n",
              "      <td>290.00</td>\n",
              "      <td>282.20</td>\n",
              "      <td>284.80</td>\n",
              "      <td>284.45</td>\n",
              "      <td>5439.655</td>\n",
              "    </tr>\n",
              "    <tr>\n",
              "      <th>202</th>\n",
              "      <td>298.60</td>\n",
              "      <td>286.65</td>\n",
              "      <td>287.45</td>\n",
              "      <td>287.80</td>\n",
              "      <td>5545.013</td>\n",
              "    </tr>\n",
              "    <tr>\n",
              "      <th>203</th>\n",
              "      <td>290.00</td>\n",
              "      <td>285.90</td>\n",
              "      <td>297.85</td>\n",
              "      <td>298.35</td>\n",
              "      <td>5565.444</td>\n",
              "    </tr>\n",
              "    <tr>\n",
              "      <th>204</th>\n",
              "      <td>287.55</td>\n",
              "      <td>285.05</td>\n",
              "      <td>288.05</td>\n",
              "      <td>288.45</td>\n",
              "      <td>5421.842</td>\n",
              "    </tr>\n",
              "  </tbody>\n",
              "</table>\n",
              "<p>205 rows × 5 columns</p>\n",
              "</div>"
            ],
            "text/plain": [
              "     Add1(in Thousands)  ...  Profit(in Thousands)\n",
              "0                208.00  ...              4093.065\n",
              "1                217.00  ...              4042.448\n",
              "2                223.50  ...              4213.819\n",
              "3                230.00  ...              4391.665\n",
              "4                234.55  ...              4350.683\n",
              "..                  ...  ...                   ...\n",
              "200              288.00  ...              5374.105\n",
              "201              290.00  ...              5439.655\n",
              "202              298.60  ...              5545.013\n",
              "203              290.00  ...              5565.444\n",
              "204              287.55  ...              5421.842\n",
              "\n",
              "[205 rows x 5 columns]"
            ]
          },
          "metadata": {},
          "execution_count": 3
        }
      ]
    },
    {
      "cell_type": "code",
      "source": [
        "y=data1['Profit(in Thousands)']\n",
        "X=data1.drop(['Profit(in Thousands)'],axis=1)"
      ],
      "metadata": {
        "id": "u3LG3_zHnAJs"
      },
      "execution_count": 5,
      "outputs": []
    },
    {
      "cell_type": "code",
      "source": [
        "from sklearn.model_selection import train_test_split\n",
        "X_train,X_test,y_train,y_test=train_test_split(X,y,random_state=42,test_size=0.25)"
      ],
      "metadata": {
        "id": "qAgJUGTSnJW7"
      },
      "execution_count": 6,
      "outputs": []
    },
    {
      "cell_type": "code",
      "source": [
        "from sklearn import linear_model\n",
        "lr=linear_model.LinearRegression()"
      ],
      "metadata": {
        "id": "jOOIPMcenLfL"
      },
      "execution_count": 7,
      "outputs": []
    },
    {
      "cell_type": "code",
      "source": [
        "model=lr.fit(X_train,y_train)"
      ],
      "metadata": {
        "id": "3qIkTiXBnN4e"
      },
      "execution_count": 8,
      "outputs": []
    },
    {
      "cell_type": "code",
      "source": [
        "predictions=model.predict(X_test)"
      ],
      "metadata": {
        "id": "pGKSa0B8nVbq"
      },
      "execution_count": 9,
      "outputs": []
    },
    {
      "cell_type": "code",
      "source": [
        "print(y_test)"
      ],
      "metadata": {
        "colab": {
          "base_uri": "https://localhost:8080/"
        },
        "id": "Wjus32h5nY2G",
        "outputId": "6b636db3-4d46-49fc-fdb9-9cf83b058770"
      },
      "execution_count": 10,
      "outputs": [
        {
          "output_type": "stream",
          "name": "stdout",
          "text": [
            "15     4152.066\n",
            "9      4446.441\n",
            "100    5131.898\n",
            "132    4907.560\n",
            "68     5004.282\n",
            "95     4623.793\n",
            "159    5384.175\n",
            "162    5328.025\n",
            "147    5175.051\n",
            "182    5956.323\n",
            "191    5780.799\n",
            "164    4997.719\n",
            "65     5075.858\n",
            "175    5784.540\n",
            "73     4936.120\n",
            "152    5065.652\n",
            "18     4190.965\n",
            "82     5034.726\n",
            "86     5015.536\n",
            "143    5134.657\n",
            "60     5145.131\n",
            "101    5421.940\n",
            "98     4569.293\n",
            "30     4598.292\n",
            "25     4436.321\n",
            "16     4175.677\n",
            "168    5616.791\n",
            "195    5667.250\n",
            "97     4648.834\n",
            "194    5717.838\n",
            "67     5001.615\n",
            "120    5182.368\n",
            "154    5017.503\n",
            "202    5545.013\n",
            "79     5013.207\n",
            "69     5030.451\n",
            "145    5108.626\n",
            "55     4760.877\n",
            "45     4606.340\n",
            "84     4925.861\n",
            "146    5250.788\n",
            "66     5038.222\n",
            "111    5491.792\n",
            "153    5019.997\n",
            "96     4647.356\n",
            "38     4486.380\n",
            "24     4435.174\n",
            "139    5300.437\n",
            "112    5425.190\n",
            "29     4482.183\n",
            "19     4193.095\n",
            "178    6062.457\n",
            "Name: Profit(in Thousands), dtype: float64\n"
          ]
        }
      ]
    },
    {
      "cell_type": "code",
      "source": [
        "print(predictions)"
      ],
      "metadata": {
        "colab": {
          "base_uri": "https://localhost:8080/"
        },
        "id": "L6OV10y3nc2s",
        "outputId": "4f2c5833-6179-4c33-cbbe-031407e2074f"
      },
      "execution_count": 11,
      "outputs": [
        {
          "output_type": "stream",
          "name": "stdout",
          "text": [
            "[4182.72271459 4426.1011238  5038.06212842 4927.36716247 5032.39628612\n",
            " 4620.15191299 5381.18847206 5316.60745881 5204.53815451 5935.91050279\n",
            " 5788.47655949 4990.36718787 5058.40006565 5798.96238789 4963.3525098\n",
            " 5068.96959938 4217.87761717 5054.22865839 5029.61004532 5138.7783579\n",
            " 5151.27361059 5411.49229686 4561.96503369 4611.21766893 4445.26156003\n",
            " 4155.78865353 5590.86767575 5686.60053886 4658.87728551 5704.07044013\n",
            " 4985.03425498 5198.87837387 5033.74342627 5528.44634392 5027.24339974\n",
            " 5049.37268433 5114.00702613 4727.4058958  4598.80007692 4926.00746743\n",
            " 5212.85737542 5044.73898847 5513.94697171 4990.87701024 4666.01485475\n",
            " 4490.30686626 4467.19745689 5274.91938195 5416.47183778 4505.53140875\n",
            " 4222.99014137 6021.73360209]\n"
          ]
        }
      ]
    }
  ]
}